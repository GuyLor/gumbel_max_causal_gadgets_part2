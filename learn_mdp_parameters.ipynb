{
 "cells": [
  {
   "cell_type": "markdown",
   "metadata": {},
   "source": [
    "\n",
    "This notebook is used to generate the true MDP parameters, by sampling 10k times from the transitions of every state/action pair using the underlying simulator.  In the paper, this is used to construct an \"optimal\" physician policy against which we compare the RL policy"
   ]
  },
  {
   "cell_type": "code",
   "execution_count": 1,
   "metadata": {},
   "outputs": [],
   "source": [
    "import itertools as it\n",
    "import numpy as np\n",
    "from sepsisSimDiabetes.State import State\n",
    "from sepsisSimDiabetes.Action import Action\n",
    "from sepsisSimDiabetes.MDP import MDP\n",
    "import pickle as pkl\n",
    "from tqdm import tqdm_notebook as tqdm"
   ]
  },
  {
   "cell_type": "code",
   "execution_count": 2,
   "metadata": {},
   "outputs": [],
   "source": [
    "# Samples per component/state/action pair\n",
    "np.random.seed(1)\n",
    "n_iter = 10000\n",
    "n_actions = Action.NUM_ACTIONS_TOTAL\n",
    "n_states = State.NUM_OBS_STATES\n",
    "n_components = 2\n",
    "\n",
    "states = range(n_states)\n",
    "actions = range(n_actions)\n",
    "components = [0, 1]"
   ]
  },
  {
   "cell_type": "code",
   "execution_count": 3,
   "metadata": {},
   "outputs": [],
   "source": [
    "## TRANSITION MATRIX\n",
    "tx_mat = np.zeros((n_components, n_actions, n_states, n_states))\n",
    "\n",
    "# Not used, but a required argument\n",
    "dummy_pol = np.ones((n_states, n_actions)) / n_actions"
   ]
  },
  {
   "cell_type": "code",
   "execution_count": 4,
   "metadata": {},
   "outputs": [
    {
     "name": "stderr",
     "output_type": "stream",
     "text": [
      "/Users/guy_l/DL-course/course/lib/python3.7/site-packages/ipykernel_launcher.py:3: TqdmDeprecationWarning: This function will be removed in tqdm==5.0.0\n",
      "Please use `tqdm.notebook.tqdm` instead of `tqdm.tqdm_notebook`\n",
      "  This is separate from the ipykernel package so we can avoid doing imports until\n"
     ]
    },
    {
     "data": {
      "application/vnd.jupyter.widget-view+json": {
       "model_id": "4d93f978d9254951a29d45b0d08b093c",
       "version_major": 2,
       "version_minor": 0
      },
      "text/plain": [
       "  0%|          | 0/115200000 [00:00<?, ?it/s]"
      ]
     },
     "metadata": {},
     "output_type": "display_data"
    }
   ],
   "source": [
    "# WARNING: This takes about 2 hours to run on my laptop\n",
    "tx_mat = np.zeros((n_components, n_actions, n_states, n_states))\n",
    "for (c, s0, a, _) in tqdm(it.product(components, states, actions, range(n_iter)), total=n_components*n_actions*n_states*n_iter):\n",
    "    this_mdp = MDP(init_state_idx=s0, policy_array=dummy_pol, p_diabetes=c)\n",
    "    r = this_mdp.transition(Action(action_idx=a))\n",
    "    s1 = this_mdp.state.get_state_idx()\n",
    "    tx_mat[c, a, s0, s1] += 1"
   ]
  },
  {
   "cell_type": "code",
   "execution_count": 5,
   "metadata": {},
   "outputs": [],
   "source": [
    "est_tx_mat = tx_mat / n_iter\n",
    "# Extra normalization\n",
    "est_tx_mat /= est_tx_mat.sum(axis=-1, keepdims=True)"
   ]
  },
  {
   "cell_type": "code",
   "execution_count": 6,
   "metadata": {},
   "outputs": [],
   "source": [
    "## REWARD MATRIX\n",
    "np.random.seed(1)\n",
    "\n",
    "# Calculate the reward matrix explicitly, only based on state\n",
    "est_r_mat = np.zeros_like(est_tx_mat)\n",
    "for s1 in states:\n",
    "    this_mdp = MDP(init_state_idx=s1, policy_array=dummy_pol, p_diabetes=1)\n",
    "    r = this_mdp.calculateReward()\n",
    "    est_r_mat[:, :, :, s1] = r"
   ]
  },
  {
   "cell_type": "code",
   "execution_count": 7,
   "metadata": {},
   "outputs": [],
   "source": [
    "## PRIOR ON INITIAL STATE\n",
    "np.random.seed(1)\n",
    "prior_initial_state = np.zeros((n_components, n_states))\n",
    "\n",
    "for c in components:\n",
    "    this_mdp = MDP(p_diabetes=c)\n",
    "    for _ in range(n_iter):\n",
    "        s = this_mdp.get_new_state().get_state_idx()\n",
    "        prior_initial_state[c, s] += 1\n",
    "    \n",
    "prior_initial_state = prior_initial_state / n_iter\n",
    "# Extra normalization\n",
    "prior_initial_state /= prior_initial_state.sum(axis=-1, keepdims=True)"
   ]
  },
  {
   "cell_type": "code",
   "execution_count": 13,
   "metadata": {},
   "outputs": [],
   "source": [
    "prior_mx_components = np.array([0.8, 0.2])"
   ]
  },
  {
   "cell_type": "code",
   "execution_count": 14,
   "metadata": {},
   "outputs": [],
   "source": [
    "mat_dict = {\"tx_mat\": est_tx_mat,\n",
    "            \"r_mat\": est_r_mat,\n",
    "            \"p_initial_state\": prior_initial_state,\n",
    "            \"p_mixture\": prior_mx_components}\n",
    "with open('data/diab_txr_mats-replication.pkl', 'wb') as f:\n",
    "    pkl.dump(mat_dict, f)"
   ]
  }
 ],
 "metadata": {
  "kernelspec": {
   "display_name": "Python 3",
   "language": "python",
   "name": "python3"
  },
  "language_info": {
   "codemirror_mode": {
    "name": "ipython",
    "version": 3
   },
   "file_extension": ".py",
   "mimetype": "text/x-python",
   "name": "python",
   "nbconvert_exporter": "python",
   "pygments_lexer": "ipython3",
   "version": "3.8.10"
  }
 },
 "nbformat": 4,
 "nbformat_minor": 2
}