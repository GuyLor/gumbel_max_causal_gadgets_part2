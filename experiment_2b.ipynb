{
 "cells": [
  {
   "cell_type": "markdown",
   "metadata": {},
   "source": [
    "### Section 7.2 part 2\n",
    "\n",
    "In this part of the experiment we consider fixed (p, q) in case where they "
   ]
  },
  {
   "cell_type": "code",
   "execution_count": 1,
   "metadata": {
    "id": "Wd-5j4FHr9LZ"
   },
   "outputs": [],
   "source": [
    "%load_ext autoreload\n",
    "%reload_ext autoreload"
   ]
  },
  {
   "cell_type": "code",
   "execution_count": 2,
   "metadata": {
    "id": "Wd-5j4FHr9LZ"
   },
   "outputs": [],
   "source": [
    "import torch\n",
    "from torch import nn\n",
    "from torch.nn import functional as F\n",
    "import numpy as np\n",
    "import matplotlib.pyplot as plt\n",
    "import cf.gadget_2_jax as JP_Z\n",
    "from cf import utils\n",
    "from cf import models\n"
   ]
  },
  {
   "cell_type": "code",
   "execution_count": 3,
   "metadata": {
    "id": "suRH4mqhr9Le"
   },
   "outputs": [],
   "source": [
    "def train_gsm_with_gadget1(num_epochs, model, logits_p, logits_q, R, lr=0.001, tau=1.0, verbose=True):\n",
    "    optimizer = torch.optim.Adam(model.parameters(), lr=lr)\n",
    "    lr_scheduler = torch.optim.lr_scheduler.ExponentialLR(optimizer=optimizer, gamma=schedualer_decay)\n",
    "    bs = 64\n",
    "\n",
    "    losses = []\n",
    "    l_avg = []\n",
    "\n",
    "    k = logits_p.size(-1)\n",
    "\n",
    "    RiRj = torch.tensor([(R(i) - R(j)) ** 2 for i in range(k) for j in range(k)])  # /normalizer\n",
    "    RiRj = RiRj.view(1, k, k).repeat([bs, 1, 1])\n",
    "\n",
    "    ma_l, ma_c = 0, 0\n",
    "    logits_p = logits_p.repeat([bs, 1])\n",
    "    logits_q = logits_q.repeat([bs, 1])\n",
    "\n",
    "    for epoch in range(num_epochs):\n",
    "        p, q = add_noise_if_generalized_pq(logits_p, logits_q, GENERALIZED)\n",
    "        \n",
    "        bs = p.size(0)\n",
    "        u = torch.rand(bs, p.size(-1), q.size(-1))\n",
    "        joint_pq = model(p, is_pq=True)\n",
    "        joint_qp = model(q, is_pq=False)\n",
    "\n",
    "\n",
    "        gumbel_noise = - torch.log(1e-8 - torch.log(u + 1e-8))\n",
    "        logprobs_p = utils.marginal_gumbel_log_softmax(joint_pq, gumbel_noise, rows=True, tau=tau, hard=False)\n",
    "        logprobs_q = utils.marginal_gumbel_log_softmax(joint_qp, gumbel_noise.transpose(-2, -1), rows=True, tau=tau,\n",
    "                                                    hard=False)\n",
    "\n",
    "        covariance = torch.exp(logprobs_p[:, :, None] + logprobs_q[:, None, :]) * RiRj.view(bs, k, k)\n",
    "\n",
    "        loss = torch.sum((logprobs_p[:, :, None] + logprobs_q[:, None, :]) * covariance.detach())\n",
    "\n",
    "        l_avg.append((loss.item(), covariance.sum().item()))\n",
    "\n",
    "        optimizer.zero_grad()\n",
    "        loss.backward()\n",
    "\n",
    "        optimizer.step()\n",
    "        if epoch % 100 == 0:\n",
    "            lr_scheduler.step() if schedualer_decay != 1.0 else None\n",
    "            tau = tau * tau_decay\n",
    "\n",
    "        if epoch % 50 == 0 or np.remainder(np.log2(epoch), 1) == 0:\n",
    "            l, c = zip(*l_avg)\n",
    "            l, c = np.mean(l), np.mean(c)\n",
    "            losses.append((l, c))\n",
    "            l_avg = []\n",
    "            ma_l = .99 * ma_l + .01 * l\n",
    "            ma_c = .99 * ma_c + .01 * c\n",
    "            if verbose:\n",
    "                print(f'{epoch} {tau} {l} {c}')\n",
    "\n",
    "    return losses\n",
    "\n"
   ]
  },
  {
   "cell_type": "code",
   "execution_count": 4,
   "metadata": {
    "pycharm": {
     "name": "#%%\n"
    }
   },
   "outputs": [],
   "source": [
    "def train_gsm_with_gadget2(num_epochs, model, logits_p, logits_q, reward_f, s_prime_obs=None, cf=False,\n",
    "                            verbose=True, seed=0):\n",
    "    if cf:\n",
    "        assert s_prime_obs is not None, 's_prime_obs must be given in the CF method'\n",
    "    else:\n",
    "        #set dummy s_prime\n",
    "        s_prime_obs = 0\n",
    "\n",
    "    logits_p = logits_p.numpy().clip(min=-80.0)\n",
    "    logits_q = logits_q.numpy().clip(min=-80.0)\n",
    "    k = logits_p.shape[-1]\n",
    "\n",
    "    rewards = np.array([reward_f(i) for i in range(k)])\n",
    "\n",
    "    model.train(logits_p, logits_q,\n",
    "                np.array(s_prime_obs), rewards, num_iter=num_epochs,\n",
    "                cf=cf, noise_scale=GENERALIZED, verbose=verbose, seed=seed)\n",
    "    "
   ]
  },
  {
   "cell_type": "code",
   "execution_count": 5,
   "metadata": {
    "id": "yn7tnhmqr9Ld"
   },
   "outputs": [],
   "source": [
    "def add_noise_if_generalized_pq(p, q, std):\n",
    "    # add noise to logits    \n",
    "    if std != 0:\n",
    "        return torch.clamp(p + std*torch.randn_like(p), max=0.0), torch.clamp(q + std*torch.randn_like(q), max=0.0)\n",
    "    else:\n",
    "        return p, q"
   ]
  },
  {
   "cell_type": "code",
   "execution_count": 6,
   "metadata": {
    "id": "gOLSQo-er9Ld"
   },
   "outputs": [],
   "source": [
    "\n",
    "# Non-monotonic reward function\n",
    "def R_sin(a, s=None):\n",
    "    return np.sin(15 * a)\n",
    "\n",
    "\n",
    "def R_sin30(a, s=None):\n",
    "    return np.sin(30 * a)\n",
    "\n",
    "\n",
    "def R_random_sin30(a, s=None):\n",
    "    return RANDOM_NON_MONOTONE_R[a]\n",
    "\n",
    "\n",
    "# Monotonic (in the region)\n",
    "def R_random(a, s=None):\n",
    "    return RANDOM_MONOTONE_R[a] \n",
    "\n",
    "\n",
    "def R_sqr(a, s=None):\n",
    "    return a ** 2\n"
   ]
  },
  {
   "cell_type": "code",
   "execution_count": 7,
   "metadata": {},
   "outputs": [],
   "source": [
    "\n",
    "R_monotone = R_random\n",
    "R_non_monotone = R_random_sin30\n",
    "\n",
    "#figpath = \"./figs/toy_example\"\n",
    "figpath = \"figs/\"\n",
    "coupler_save_path = R_monotone.__name__ + '-' + R_non_monotone.__name__"
   ]
  },
  {
   "cell_type": "code",
   "execution_count": 8,
   "metadata": {},
   "outputs": [],
   "source": [
    "def create_random_monotone():\n",
    "    return np.cumsum(np.random.rand(K))\n",
    "\n",
    "def create_random_non_monotone():\n",
    "    return R_sin30(np.random.normal(loc=np.zeros(K), scale=1))\n"
   ]
  },
  {
   "cell_type": "code",
   "execution_count": 9,
   "metadata": {
    "id": "fJnT8Lifr9Le"
   },
   "outputs": [],
   "source": [
    "K = 10\n",
    "\n",
    "schedualer_decay = 1.0\n",
    "tau_decay = 1.0\n",
    "learning_rate = 0.00001\n",
    "\n",
    "torch.manual_seed(100)\n",
    "np.random.seed(100)\n",
    "\n",
    "    \n",
    "RANDOM_MONOTONE_R = create_random_monotone()\n",
    "RANDOM_NON_MONOTONE_R = create_random_non_monotone()\n",
    "\n",
    "GENERALIZED = 0\n",
    "p_logits = (torch.arange(K, 0, step=-1).float()/4).unsqueeze(0)\n",
    "q_logits = (torch.arange(K).float()/4).unsqueeze(0)\n"
   ]
  },
  {
   "cell_type": "code",
   "execution_count": 10,
   "metadata": {
    "colab": {
     "base_uri": "https://localhost:8080/",
     "height": 1000
    },
    "id": "8zKQu6uLr9Lf",
    "outputId": "35dd0aad-3b26-421b-c079-7454163e1f8d",
    "scrolled": false
   },
   "outputs": [
    {
     "name": "stderr",
     "output_type": "stream",
     "text": [
      "WARNING:absl:No GPU/TPU found, falling back to CPU. (Set TF_CPP_MIN_LOG_LEVEL=0 and rerun for more info.)\n"
     ]
    },
    {
     "name": "stdout",
     "output_type": "stream",
     "text": [
      "0 1.0 -167.9389398643856 52.324004913466865\n",
      "1 1.0 -155.5490832190536 58.144065714950116\n",
      "2 1.0 -175.50655121120153 59.31430416194602\n",
      "4 1.0 -174.3931358170284 57.931231495763356\n",
      "8 1.0 -171.2437877525198 56.5110724927502\n",
      "16 1.0 -166.5353348913696 55.54475491220046\n",
      "32 1.0 -168.85153891476392 57.14526575097915\n",
      "50 1.0 -169.4767376565317 55.98763226258352\n",
      "64 1.0 -169.31475324757358 55.113062645211464\n",
      "100 1.0 -164.41959151759173 54.019143479658695\n",
      "128 1.0 -165.26732003016073 53.82468731915931\n",
      "150 1.0 -165.04225421833783 51.671158613726725\n",
      "200 1.0 -163.61047298397025 51.035025649660696\n",
      "250 1.0 -161.26902005378014 50.115249191829996\n",
      "256 1.0 -159.01353535161397 48.389123530846824\n",
      "300 1.0 -159.76142380584668 48.23573796995071\n",
      "350 1.0 -160.69120360056476 47.56453717837677\n",
      "400 1.0 -158.93637818423574 46.71928901230769\n",
      "450 1.0 -157.81276452439903 46.53609680013909\n",
      "500 1.0 -158.0909916578559 45.89234425061499\n",
      "512 1.0 -157.43416324083364 45.26634913084891\n",
      "550 1.0 -158.1204285643671 45.74081610857735\n",
      "600 1.0 -156.9141194732875 45.23666733931128\n",
      "650 1.0 -156.8586592254624 45.25010335831754\n",
      "700 1.0 -156.92556481956836 45.01469659620476\n",
      "750 1.0 -155.03927477408624 44.55721698000532\n",
      "800 1.0 -157.15975105399386 44.91858328926049\n",
      "850 1.0 -158.09796597677655 44.97354693793965\n",
      "900 1.0 -155.5617853333851 44.699870913116584\n",
      "950 1.0 -157.22951817334027 45.145065348889084\n",
      "1000 1.0 -156.6875545501713 44.82030193832495\n",
      "1024 1.0 -157.59837031599463 44.85810511915518\n",
      "1050 1.0 -154.76051555127432 44.11968055966038\n",
      "1100 1.0 -156.87297367211121 44.67180876476678\n",
      "1150 1.0 -155.94493520518998 44.24772393407728\n",
      "1200 1.0 -153.88557666541502 43.69531531172071\n",
      "1250 1.0 -154.95565139279594 43.95512604270458\n",
      "1300 1.0 -157.92625303334577 44.55745594025657\n",
      "1350 1.0 -157.88450224850615 44.55992621542202\n",
      "1400 1.0 -157.38159467204937 44.2828321332011\n",
      "1450 1.0 -156.75150242435487 44.143808089869715\n",
      "1500 1.0 -155.88769704200877 43.825779094911994\n",
      "1550 1.0 -156.18577143683825 44.01710350872093\n",
      "1600 1.0 -157.463260993944 44.30975921668558\n",
      "1650 1.0 -155.862410261882 43.55259504986849\n",
      "1700 1.0 -157.71052758792263 44.209162766792176\n",
      "1750 1.0 -157.00496263952482 44.04210757934873\n",
      "1800 1.0 -157.7075515945058 44.158097065844125\n",
      "1850 1.0 -155.3105103883583 43.40403581769887\n",
      "1900 1.0 -155.1838096844505 43.32602595684878\n",
      "1950 1.0 -159.68145683367354 44.778886925639206\n",
      "1: {'loss': 0.6844744086265564}\n",
      "2: {'loss': 0.6906892657279968}\n",
      "4: {'loss': 0.745762050151825}\n",
      "8: {'loss': 0.5971688032150269}\n",
      "16: {'loss': 0.6934273838996887}\n",
      "32: {'loss': 0.6648648381233215}\n",
      "64: {'loss': 0.6260109543800354}\n",
      "128: {'loss': 0.6422197222709656}\n",
      "200: {'loss': 0.7151163220405579}\n",
      "256: {'loss': 0.6568819284439087}\n",
      "400: {'loss': 0.42272570729255676}\n",
      "512: {'loss': 0.3662804663181305}\n",
      "600: {'loss': 0.3243226110935211}\n",
      "800: {'loss': 0.4315519630908966}\n",
      "1000: {'loss': 0.3905391991138458}\n",
      "1024: {'loss': 0.252959281206131}\n",
      "1200: {'loss': 0.2858180105686188}\n",
      "1400: {'loss': 0.3500309884548187}\n",
      "1600: {'loss': 0.26849132776260376}\n",
      "1800: {'loss': 0.3126137852668762}\n",
      "2000: {'loss': 0.26454639434814453}\n"
     ]
    }
   ],
   "source": [
    "gd1_non_monotone = models.JointPredictorGivenLogits(K, 1024)\n",
    "gd2_non_monotone = JP_Z.Gadget2Jax(s_dim=K, z_dim=20, hidden_features=[1024,1024], tmp=1.0)\n",
    "\n",
    "#\n",
    "train_gsm_with_gadget1(2000, gd1_non_monotone, p_logits, q_logits, R_non_monotone, tau=1.0, lr=learning_rate)\n",
    "train_gsm_with_gadget2(2000, gd2_non_monotone, p_logits, q_logits, R_non_monotone, s_prime_obs=None)\n"
   ]
  },
  {
   "cell_type": "code",
   "execution_count": 11,
   "metadata": {
    "colab": {
     "base_uri": "https://localhost:8080/",
     "height": 1000
    },
    "id": "fKyqlS7nr9Lf",
    "outputId": "1885958f-91c3-4fa1-d7e5-ad96c95d145a",
    "scrolled": false
   },
   "outputs": [
    {
     "name": "stdout",
     "output_type": "stream",
     "text": [
      "0 1.0 -708.3702203004975 257.28724122019713\n",
      "1 1.0 -714.2217068482007 290.8004172156075\n",
      "2 1.0 -753.3472956603676 299.76778768428403\n",
      "4 1.0 -708.1431515712784 258.0230642630415\n",
      "8 1.0 -730.0606884518941 272.48550828098683\n",
      "16 1.0 -746.6774640116587 265.24287909825273\n",
      "32 1.0 -727.4646328265603 268.18615157844954\n",
      "50 1.0 -728.1139133561257 268.38696042390285\n",
      "64 1.0 -721.2240044477591 265.44342458868744\n",
      "100 1.0 -742.7275416705138 276.1595332724956\n",
      "128 1.0 -738.357437253195 266.94377085422633\n",
      "150 1.0 -738.2012007359391 263.8609905896301\n",
      "200 1.0 -734.4423230492101 262.83799644136997\n",
      "250 1.0 -726.378975315848 257.9427140494324\n",
      "256 1.0 -717.7958512069263 255.59375785658526\n",
      "300 1.0 -718.2819254039861 252.68372884570383\n",
      "350 1.0 -712.2109944213058 250.38463151719677\n",
      "400 1.0 -711.2767435224341 250.20797012678813\n",
      "450 1.0 -714.559915158114 245.85613786038687\n",
      "500 1.0 -717.3158270961245 249.63337041872532\n",
      "512 1.0 -701.2417934659508 238.98988057754005\n",
      "550 1.0 -711.2260216975068 245.21129744098857\n",
      "600 1.0 -713.6530013371101 244.69355784121268\n",
      "650 1.0 -700.996323438405 239.144140988994\n",
      "700 1.0 -700.2268783181659 239.67689095378498\n",
      "750 1.0 -705.9910369460968 238.73798245140722\n",
      "800 1.0 -709.3956521477359 239.11058218801165\n",
      "850 1.0 -705.7881713671451 238.91753868789715\n",
      "900 1.0 -707.1674707328118 239.59287733938245\n",
      "950 1.0 -704.3141523760751 237.01176089281674\n",
      "1000 1.0 -706.6391898860466 238.29438875074487\n",
      "1024 1.0 -697.1903763094655 233.902683456727\n",
      "1050 1.0 -699.8460045452167 235.96670074362888\n",
      "1100 1.0 -707.0642030895808 240.36679100859467\n",
      "1150 1.0 -704.6669506711667 237.26963233913125\n",
      "1200 1.0 -700.247289106904 235.51633611016615\n",
      "1250 1.0 -700.9067773806497 236.3480851519661\n",
      "1300 1.0 -706.32892674509 237.89509205159786\n",
      "1350 1.0 -705.7739661041653 235.57342286999196\n",
      "1400 1.0 -699.51440516983 235.54461154725658\n",
      "1450 1.0 -702.1153791800501 234.3490190463634\n",
      "1500 1.0 -694.3719105069067 234.64385626327658\n",
      "1550 1.0 -698.4868298025486 234.85343254608233\n",
      "1600 1.0 -698.9776719438714 233.00517784427208\n",
      "1650 1.0 -697.9982864840376 233.5488430840647\n",
      "1700 1.0 -699.5397315327506 234.1597721981606\n",
      "1750 1.0 -698.8666657339589 232.91221500158414\n",
      "1800 1.0 -699.6735973734739 235.22347697513868\n",
      "1850 1.0 -699.2420766216197 233.4381610399753\n",
      "1900 1.0 -695.6983501751738 231.72481298467258\n",
      "1950 1.0 -706.7312199445464 235.0940361329063\n",
      "1: {'loss': 4.113441467285156}\n",
      "2: {'loss': 3.7668910026550293}\n",
      "4: {'loss': 3.6756746768951416}\n",
      "8: {'loss': 3.3424761295318604}\n",
      "16: {'loss': 4.172622203826904}\n",
      "32: {'loss': 3.753202438354492}\n",
      "64: {'loss': 3.8878116607666016}\n",
      "128: {'loss': 4.503621578216553}\n",
      "200: {'loss': 3.5473196506500244}\n",
      "256: {'loss': 4.609161853790283}\n",
      "400: {'loss': 3.6037137508392334}\n",
      "512: {'loss': 3.6930065155029297}\n",
      "600: {'loss': 2.837578535079956}\n",
      "800: {'loss': 4.042028427124023}\n",
      "1000: {'loss': 3.341987371444702}\n",
      "1024: {'loss': 2.1955745220184326}\n",
      "1200: {'loss': 3.5798184871673584}\n",
      "1400: {'loss': 3.021186113357544}\n",
      "1600: {'loss': 3.020780086517334}\n",
      "1800: {'loss': 3.120607852935791}\n",
      "2000: {'loss': 2.3093464374542236}\n"
     ]
    }
   ],
   "source": [
    "\n",
    "gd1_monotone = models.JointPredictorGivenLogits(K, 1024)\n",
    "gd2_monotone = JP_Z.Gadget2Jax(s_dim=K, z_dim=20, hidden_features=[1024,1024], tmp=1.0)\n",
    "\n",
    "train_gsm_with_gadget1(2000, gd1_monotone, p_logits, q_logits, R_monotone, tau=1.0, lr=learning_rate)\n",
    "train_gsm_with_gadget2(2000, gd2_monotone, p_logits, q_logits, R_monotone, s_prime_obs=None)\n",
    "\n"
   ]
  },
  {
   "cell_type": "code",
   "execution_count": null,
   "metadata": {
    "id": "I90imHEpr9Lg"
   },
   "outputs": [],
   "source": []
  },
  {
   "cell_type": "markdown",
   "metadata": {
    "id": "Df6y9oiTr9Lg"
   },
   "source": [
    "Let's compare our joint predictor to Gumbel-Max and inverseCDF coupling:"
   ]
  },
  {
   "cell_type": "code",
   "execution_count": 12,
   "metadata": {
    "id": "ThnqYt8_r9Lg"
   },
   "outputs": [],
   "source": [
    "def f_gumbel(u, logits):\n",
    "    # u is a vector of size size(logits)\n",
    "    return torch.argmax(-torch.log(-torch.log(u)) + logits)\n",
    "\n",
    "\n",
    "def f_cdf_inv(u, logits):\n",
    "    u = u[0]\n",
    "    cum = 0\n",
    "    for i, p in zip(torch.arange(logits.size(-1)), torch.softmax(logits, dim=-1)):\n",
    "        cum += p\n",
    "        if cum > u:\n",
    "            return i\n",
    "\n",
    "\n",
    "def get_couple(f, logits_p, logits_q, r, antithetic=False, indep=False):\n",
    "    u = torch.rand_like(logits_p)\n",
    "    ap = f(u, logits_p)\n",
    "    \n",
    "    if not indep:\n",
    "        aq = f(u, logits_q) if not antithetic else f(1 - u, logits_q)\n",
    "    else:\n",
    "        aq = f(torch.rand_like(logits_p), logits_q)\n",
    "\n",
    "    rp = r(ap)\n",
    "    rq = r(aq)\n",
    "\n",
    "    return (ap.item(), aq.item()), (rp - rq).item()"
   ]
  },
  {
   "cell_type": "code",
   "execution_count": null,
   "metadata": {
    "scrolled": false
   },
   "outputs": [],
   "source": []
  },
  {
   "cell_type": "code",
   "execution_count": 13,
   "metadata": {
    "id": "4tmaTseMr9Lg"
   },
   "outputs": [],
   "source": [
    "from scipy.optimize import linprog\n",
    "\n",
    "\n",
    "class MaxCovSolver:\n",
    "    def __init__(self, logits, r):\n",
    "        p_logits, q_logits = logits\n",
    "        probs_p = torch.softmax(p_logits, dim=-1).detach().numpy()\n",
    "        probs_q = torch.softmax(q_logits, dim=-1).detach().numpy()\n",
    "\n",
    "        self.obj = lambda r1, r2: (r1 - r2)**2\n",
    "\n",
    "        self.K = len(probs_p)\n",
    "        assert self.K == len(probs_q)\n",
    "\n",
    "        self.ij_to_idx = {(i, j): i * self.K + j for i in range(self.K) for j in range(self.K)}\n",
    "        self.idx_to_ij = {i * self.K + j: (i, j) for i in range(self.K) for j in range(self.K)}\n",
    "\n",
    "        self.bnd = [(0.0, 1.0) for i in range(self.K) for j in range(self.K)]\n",
    "        self.lhs, self.rhs = self.create_constrains(probs_p, probs_q)\n",
    "        self.psi_obj = self.create_obj(r)\n",
    "\n",
    "        np.set_printoptions(threshold=np.inf)\n",
    "\n",
    "\n",
    "    def __call__(self, method=\"simplex\", tol=1.4e-07):\n",
    "        self.opt = linprog(c=self.psi_obj,\n",
    "                           A_eq=self.lhs,\n",
    "                           b_eq=self.rhs,\n",
    "                           bounds=self.bnd,\n",
    "                           method=method,\n",
    "                           options={'ipm_optimality_tolerance': 1e-12,\n",
    "                                    'dual_feasibility_tolerance':1e-10,\n",
    "                                    'primal_feasibility_tolerance':1e-10}\n",
    "                           #options={'rr': False, 'tol': tol}  # , 'autoscale':True\n",
    "                           )\n",
    "        return self.opt.x\n",
    "\n",
    "    def get_opt_coupling(self):\n",
    "        \"\"\"returns (a_p, a_q, prob)\"\"\"\n",
    "        return [(self.idx_to_ij[m][0], self.idx_to_ij[m][1], aij) for m, aij in enumerate(self.opt.x)]\n",
    "\n",
    "    def create_obj(self, r):\n",
    "        obj = [0 for _ in range(self.K) for _ in range(self.K)]\n",
    "        for i in range(self.K):\n",
    "            for j in range(self.K):\n",
    "                obj[self.ij_to_idx[(i, j)]] = self.obj(r(i), r(j))  #(r(i)-r(j))**2 #-r(i)*r(j)\n",
    "        return obj\n",
    "\n",
    "    def create_constrains(self, p, q):\n",
    "        K = self.K\n",
    "        lhs = [[0 for _ in range(K * K)] for __ in range(2 * K)]\n",
    "        rhs = []\n",
    "        for i, eq in enumerate(lhs):\n",
    "            for k1 in range(K):\n",
    "                for k2 in range(K):\n",
    "                    if i == k1:\n",
    "                        lhs[i][self.ij_to_idx[(k1, k2)]] = 1\n",
    "\n",
    "                    elif i - K == k1:\n",
    "                        lhs[i][self.ij_to_idx[(k2, k1)]] = 1\n",
    "                if i == k1:\n",
    "                    rhs.append(p[k1])\n",
    "                elif i - K == k1:\n",
    "                    rhs.append(q[k1])\n",
    "\n",
    "        return lhs, rhs\n"
   ]
  },
  {
   "cell_type": "code",
   "execution_count": 14,
   "metadata": {
    "id": "38sJk24gr9Lh"
   },
   "outputs": [],
   "source": [
    "def sample_from_joint(joint_pq, joint_qp, r):\n",
    "    u = torch.rand_like(joint_pq)  # bs, k, k\n",
    "    gumbel_noise = - torch.log(1e-8 - torch.log(u + 1e-8))\n",
    "    ap = utils.marginal_gumbel_log_softmax(joint_pq, gumbel_noise, rows=True, tau=1.0).argmax(-1)\n",
    "    aq = utils.marginal_gumbel_log_softmax(joint_qp, gumbel_noise.transpose(-2, -1), rows=True, tau=1.0).argmax(-1)\n",
    "\n",
    "    rp = r(ap).squeeze()\n",
    "    rq = r(aq).squeeze()\n",
    "\n",
    "    return (ap.item(), aq.item()), (rp - rq).item()\n",
    "\n",
    "\n",
    "def sample_from_policy(model, logits_p, logits_q, r):\n",
    "    joint_pq = model(logits_p.view(1, logits_p.size(-1)), is_pq=True)\n",
    "    joint_qp = model(logits_q.view(1, logits_p.size(-1)), is_pq=False)\n",
    "\n",
    "    return sample_from_joint(joint_pq, joint_qp, r)\n",
    "\n",
    "\n",
    "def get_opt_joint(logits_p, logits_q, r):\n",
    "    m = MaxCovSolver(logits=(logits_p, logits_q), r=r)\n",
    "    sol = m(method='highs-ipm') #, tol=1.4e-6)  #\"interior-point\", revised simplex,highs-ipm\n",
    "    #print(m.opt)\n",
    "    _, _, probs_opt = zip(*m.get_opt_coupling())\n",
    "    -m.opt.fun\n",
    "    k = logits_p.size(-1)\n",
    "    return torch.tensor(probs_opt).log().reshape(1, k, k)\n"
   ]
  },
  {
   "cell_type": "code",
   "execution_count": 15,
   "metadata": {
    "id": "cSvE-eG-r9Lh"
   },
   "outputs": [],
   "source": [
    "\n",
    "def compare_coupling_strategies(n, p_logits, q_logits, R, model, model_z, params_z, monotone=False):\n",
    "    logits_pq_opt = get_opt_joint(p_logits, q_logits, R) if not monotone else None\n",
    "    ates = []\n",
    "    couples = []\n",
    "    r = np.array([R(i) for i in range(q_logits.shape[-1])])\n",
    "    for i in range(n):\n",
    "        # Independant \n",
    "        (ap_i, aq_i), ate_i = get_couple(f_gumbel, p_logits, q_logits, R, indep=True)\n",
    "        \n",
    "        # Gumbel-Max\n",
    "        (ap_g, aq_g), ate_g = get_couple(f_gumbel, p_logits, q_logits, R)\n",
    "\n",
    "        # Inverse CDF\n",
    "        (ap_c, aq_c), ate_c = get_couple(f_cdf_inv, p_logits, q_logits, R)\n",
    "\n",
    "        # Joint Predictor - gadget 1\n",
    "        (ap_m, aq_m), ate_m = sample_from_policy(model, p_logits, q_logits, R)\n",
    "\n",
    "        # Joint Predictor - gadget 2        \n",
    "        (ap_z, aq_z), ate_z = JP_Z.get_single_ate(model_z, params_z, p_logits, q_logits, r, i, p_observed=None,\n",
    "                                                  method='crn')\n",
    "\n",
    "        # Optimal Coupling\n",
    "        if not monotone:            \n",
    "            (ap_o, aq_o), ate_o = sample_from_joint(logits_pq_opt, logits_pq_opt.transpose(-2, -1), R)\n",
    "        else:\n",
    "            # The Inverse-cdf is optimal under monotone functions (see the paper). \n",
    "            (ap_o, aq_o), ate_o = (ap_c, aq_c), ate_c\n",
    "\n",
    "        ates.append((ate_i, ate_g, ate_c, ate_m, ate_z, ate_o))\n",
    "        couples.append(((ap_i, aq_i), (ap_g, aq_g), (ap_c, aq_c), (ap_m, aq_m), (ap_z, aq_z), (ap_o, aq_o)))\n",
    "\n",
    "    return ates, couples\n",
    "\n"
   ]
  },
  {
   "cell_type": "code",
   "execution_count": 16,
   "metadata": {
    "pycharm": {
     "name": "#%%\n"
    }
   },
   "outputs": [],
   "source": [
    "\n",
    "n = 1000\n",
    "p_logits, q_logits = p_logits.squeeze(0), q_logits.squeeze(0)\n",
    "\n",
    "ates_monotone, couples_monotone = compare_coupling_strategies(n, p_logits, q_logits, R_monotone,\n",
    "                                                              gd1_monotone, gd2_monotone.model,\n",
    "                                                              gd2_monotone.params, monotone=True)\n",
    "\n",
    "ates_nonmonotone, couples_nonmonotone = compare_coupling_strategies(n, p_logits, q_logits, R_non_monotone,\n",
    "                                                                    gd1_non_monotone, gd2_non_monotone.model,\n",
    "                                                                    gd2_non_monotone.params, monotone=False)\n",
    "\n"
   ]
  },
  {
   "cell_type": "code",
   "execution_count": 17,
   "metadata": {
    "pycharm": {
     "name": "#%%\n"
    }
   },
   "outputs": [],
   "source": [
    "def joint_from_samples(couples, size=10):\n",
    "    counts = np.zeros((size,size))\n",
    "    for (ap,aq) in couples:\n",
    "        counts[ap, aq] += 1.0\n",
    "\n",
    "    joint = counts/len(couples)\n",
    "    return joint\n",
    "\n"
   ]
  },
  {
   "cell_type": "code",
   "execution_count": 18,
   "metadata": {
    "pycharm": {
     "name": "#%%\n"
    }
   },
   "outputs": [],
   "source": [
    "import matplotlib.ticker as plticker\n",
    "def visualize_couplings(couples, logits_1, logits_2, R, suffix=''):\n",
    "    ai, ag, ac, am, az, ao = zip(*couples)\n",
    "    k = logits_1.shape[-1]\n",
    "    RiRj = np.array([(R(i) - R(j)) ** 2 for i in range(k) for j in range(k)]).reshape(k,k)\n",
    "    independent_coupling = torch.softmax(torch.from_numpy(logits_1),-1)[:, None] * torch.softmax(torch.from_numpy(logits_2),-1)[None, :]\n",
    "    gmx = joint_from_samples(ag, k)\n",
    "    icdf = joint_from_samples(ac, k)\n",
    "    jp = joint_from_samples(am, k)\n",
    "    jpz = joint_from_samples(az, k)\n",
    "    opt = joint_from_samples(ao, k)\n",
    "\n",
    "\n",
    "    couplings = {\n",
    "        \"Independent\": independent_coupling,\n",
    "        \"Gumbel-max\": gmx,\n",
    "        \"Inverse-CDF\": icdf,\n",
    "        \"Gadget-1\": jp,\n",
    "        \"Gadget-2\": jpz,\n",
    "        \"optimal coupling\": opt,\n",
    "    }\n",
    "    \n",
    "    loc = plticker.MultipleLocator(base=2.0)\n",
    "    ncols = 2 + len(couplings)\n",
    "    _, axs = plt.subplots(nrows=1, ncols=ncols, figsize=(4 * ncols, 4))\n",
    "    axs[0].imshow(np.exp(logits_1)[:, None], vmin=0)\n",
    "    axs[1].imshow(np.exp(logits_2)[:, None], vmin=0)\n",
    "    for j, (name, coupling) in enumerate(couplings.items()):\n",
    "        axs[j + 2].xaxis.set_major_locator(loc)\n",
    "        axs[j + 2].imshow(coupling, vmin=0)\n",
    "        if name == 'Independent':\n",
    "            axs[j + 2].set_title(f\"{name}:\\n{torch.sum(coupling * torch.tensor(RiRj)).item():.2f}\",  fontsize = 18)\n",
    "\n",
    "        else:\n",
    "            axs[j + 2].set_title(f\"{name}:\\n{np.sum(coupling * RiRj):.2f}\",  fontsize = 18)\n",
    "            \n",
    "\n",
    "    plt.savefig(\"{}/toy_couples_{}_{}.pdf\".format(figpath, coupler_save_path, suffix), bbox_inches='tight')\n"
   ]
  },
  {
   "cell_type": "code",
   "execution_count": 19,
   "metadata": {
    "pycharm": {
     "name": "#%%\n"
    }
   },
   "outputs": [
    {
     "data": {
      "image/png": "[encoded data removed]",
      "text/plain": [
       "<Figure size 2304x288 with 8 Axes>"
      ]
     },
     "metadata": {
      "needs_background": "light"
     },
     "output_type": "display_data"
    }
   ],
   "source": [
    "visualize_couplings(couples_monotone, p_logits.numpy(), q_logits.numpy(), R_monotone, suffix='R_monotone')"
   ]
  },
  {
   "cell_type": "code",
   "execution_count": 20,
   "metadata": {
    "pycharm": {
     "name": "#%%\n"
    }
   },
   "outputs": [
    {
     "data": {
      "image/png": "[encoded data removed]",
      "text/plain": [
       "<Figure size 2304x288 with 8 Axes>"
      ]
     },
     "metadata": {
      "needs_background": "light"
     },
     "output_type": "display_data"
    }
   ],
   "source": [
    "visualize_couplings(couples_nonmonotone, p_logits.numpy(), q_logits.numpy(), R_non_monotone, suffix='R_non_monotone')"
   ]
  },
  {
   "cell_type": "code",
   "execution_count": 21,
   "metadata": {
    "pycharm": {
     "is_executing": true,
     "name": "#%%\n"
    },
    "scrolled": false
   },
   "outputs": [
    {
     "name": "stdout",
     "output_type": "stream",
     "text": [
      "-------  trial:  0 -----------\n",
      "Monotonic reward function:\n",
      " indep: 4.945008733341747, gmx: 4.317262516278003,  icdf: 0.8556931297995052, jp: 2.5089839048180056, jpz: 3.556820869445801,  opt: 0.8556931297995052\n",
      "Non-monotonic reward function:\n",
      " indep: 0.5155141654030311, gmx: 0.27721546732525076,  icdf: 0.537890074085093, jp: 0.13227421161822375, jpz: 0.13969506323337555,  opt: 0.033353026616698034\n",
      "-------  trial:  1 -----------\n",
      "Monotonic reward function:\n",
      " indep: 0.9346426465980064, gmx: 0.8546105420829483,  icdf: 0.11761825901602112, jp: 0.42962005012723403, jpz: 0.5831938982009888,  opt: 0.11761825901602112\n",
      "Non-monotonic reward function:\n",
      " indep: 0.9601617302853735, gmx: 0.6535214406187828,  icdf: 1.2309370924190854, jp: 0.3053650809559505, jpz: 0.17960374057292938,  opt: 0.08596162860123933\n",
      "-------  trial:  2 -----------\n",
      "Monotonic reward function:\n",
      " indep: 1.8068711050510027, gmx: 1.5260233996375931,  icdf: 0.41109068922261677, jp: 0.8936223986409814, jpz: 1.2781264781951904,  opt: 0.41109068922261677\n",
      "Non-monotonic reward function:\n",
      " indep: 0.7464320514487729, gmx: 0.43387548944713755,  icdf: 0.8954337832074225, jp: 0.2685935035218696, jpz: 0.198048934340477,  opt: 0.10938590499022044\n",
      "-------  trial:  3 -----------\n",
      "Monotonic reward function:\n",
      " indep: 2.722151051032917, gmx: 2.4149199385848386,  icdf: 0.84703061732004, jp: 1.6486978729859116, jpz: 2.230787992477417,  opt: 0.84703061732004\n",
      "Non-monotonic reward function:\n",
      " indep: 1.360146100445662, gmx: 0.8489671426380427,  icdf: 1.7740400690626916, jp: 0.5155387197966199, jpz: 0.4703139066696167,  opt: 0.34413860746512603\n",
      "-------  trial:  4 -----------\n",
      "Monotonic reward function:\n",
      " indep: 3.7811413928869695, gmx: 3.4387353196318826,  icdf: 0.9929884377171265, jp: 2.043034328752582, jpz: 2.888115167617798,  opt: 0.9929884377171265\n",
      "Non-monotonic reward function:\n",
      " indep: 0.23750453516659553, gmx: 0.15578766259826096,  icdf: 0.26353876827076866, jp: 0.0834774825826208, jpz: 0.07155356556177139,  opt: 0.03937486239919723\n",
      "-------  trial:  5 -----------\n",
      "Monotonic reward function:\n",
      " indep: 3.850818492947021, gmx: 3.4873245217173934,  icdf: 1.0301228395183677, jp: 2.0930390710179907, jpz: 2.8240904808044434,  opt: 1.0301228395183677\n",
      "Non-monotonic reward function:\n",
      " indep: 0.749802489440765, gmx: 0.4471540654341502,  icdf: 1.0006039688190393, jp: 0.25252284986123086, jpz: 0.20250333845615387,  opt: 0.06378512842054893\n",
      "-------  trial:  6 -----------\n",
      "Monotonic reward function:\n",
      " indep: 2.137653966891296, gmx: 1.9445716373728628,  icdf: 0.3543150213073554, jp: 0.9635957273038864, jpz: 1.4162511825561523,  opt: 0.3543150213073554\n",
      "Non-monotonic reward function:\n",
      " indep: 0.7387997766870625, gmx: 0.5805294940682612,  icdf: 0.4871678251019081, jp: 0.39027322095525474, jpz: 0.3909716308116913,  opt: 0.18446726629055923\n",
      "-------  trial:  7 -----------\n",
      "Monotonic reward function:\n",
      " indep: 3.49308644352356, gmx: 3.291803273191893,  icdf: 0.9551504915829809, jp: 1.9989202393546501, jpz: 2.7203593254089355,  opt: 0.9551504915829809\n",
      "Non-monotonic reward function:\n",
      " indep: 0.7561894095480113, gmx: 0.40496171107487094,  icdf: 0.8110921032699724, jp: 0.18887109990737178, jpz: 0.08131907135248184,  opt: 0.04767400521516415\n",
      "-------  trial:  8 -----------\n",
      "Monotonic reward function:\n",
      " indep: 2.6759320605041683, gmx: 2.5110446537153224,  icdf: 0.38617316835196597, jp: 1.2768049915989295, jpz: 1.8324733972549438,  opt: 0.38617316835196597\n",
      "Non-monotonic reward function:\n",
      " indep: 1.381363403235935, gmx: 0.8160989965439778,  icdf: 1.1825461222806628, jp: 0.27771302196032216, jpz: 0.23069524765014648,  opt: 0.11009975833023747\n",
      "-------  trial:  9 -----------\n",
      "Monotonic reward function:\n",
      " indep: 0.9875590053181937, gmx: 0.8809997633826474,  icdf: 0.13086551364733606, jp: 0.4119320823895545, jpz: 0.694908618927002,  opt: 0.13086551364733606\n",
      "Non-monotonic reward function:\n",
      " indep: 0.8994723425329494, gmx: 0.45081791815562655,  icdf: 0.9364692643855619, jp: 0.27484657854169053, jpz: 0.1907193660736084,  opt: 0.1399817781902644\n"
     ]
    }
   ],
   "source": [
    "var_mono = {'indep': [],\n",
    "            'gmx': [],\n",
    "            'icdf': [],\n",
    "            'jp': [],\n",
    "            'jpz': [],\n",
    "            'opt': []\n",
    "            }\n",
    "\n",
    "var_nonmono = {'indep': [],\n",
    "               'gmx': [],\n",
    "               'icdf': [],\n",
    "               'jp': [],\n",
    "               'jpz': [],\n",
    "               'opt': []\n",
    "               }\n",
    "for trial in range(10):\n",
    "    print('-------  trial: ', trial, '-----------')\n",
    "    torch.manual_seed(trial)\n",
    "    np.random.seed(trial)\n",
    "    RANDOM_MONOTONE_R = create_random_monotone()\n",
    "    RANDOM_NON_MONOTONE_R = create_random_non_monotone()\n",
    "\n",
    "    p_logits = (torch.arange(K, 0, step=-1).float()/4).unsqueeze(0)\n",
    "    q_logits = (torch.arange(K).float()/4 ).unsqueeze(0)\n",
    "\n",
    "    gd1_non_monotone = models.JointPredictorGivenLogits(K, 1024)\n",
    "    gd2_non_monotone = JP_Z.Gadget2Jax(s_dim=K, z_dim=20, hidden_features=[1024,1024], tmp=1.0)\n",
    "\n",
    "    train_gsm_with_gadget1(3000, gd1_non_monotone, p_logits, q_logits, R_non_monotone, tau=1.0,\n",
    "                           lr=learning_rate,verbose=False)\n",
    "    train_gsm_with_gadget2(3000, gd2_non_monotone, p_logits, q_logits, R_non_monotone, s_prime_obs=None,\n",
    "                           verbose=False, seed=trial)\n",
    "\n",
    "    gd1_monotone = models.JointPredictorGivenLogits(K, 1024) #models.FreeParamsPredictor(K)\n",
    "    gd2_monotone = JP_Z.Gadget2Jax(s_dim=K, z_dim=20, hidden_features=[1024,1024], tmp=1.0)\n",
    "\n",
    "    train_gsm_with_gadget1(3000, gd1_monotone, p_logits, q_logits, R_monotone, tau=1.0, lr=learning_rate, verbose=False)\n",
    "    train_gsm_with_gadget2(3000, gd2_monotone, p_logits, q_logits, R_monotone, s_prime_obs=None,\n",
    "                            verbose=False, seed=trial)\n",
    "\n",
    "    n = 2000\n",
    "    p_logits, q_logits = p_logits.squeeze(0), q_logits.squeeze(0)\n",
    "\n",
    "    #### plot R(a) = np.cumsum(np.random.rand(K))[a] ###\n",
    "    ates, _ = compare_coupling_strategies(n, p_logits, q_logits, R_monotone,\n",
    "                                          gd1_monotone, gd2_monotone.model,\n",
    "                                          gd2_monotone.params, monotone=True)\n",
    "    ate_i, ate_g, ate_c, ate_m, ate_z, ate_o = zip(*ates)\n",
    "\n",
    "    var_mono['indep'].append(np.var(ate_i))\n",
    "    var_mono['gmx'].append(np.var(ate_g))\n",
    "    var_mono['icdf'].append(np.var(ate_c))\n",
    "    var_mono['jp'].append(np.var(ate_m))\n",
    "    var_mono['jpz'].append(np.var(ate_z))\n",
    "    var_mono['opt'].append(np.var(ate_o))\n",
    "    print('Monotonic reward function:')\n",
    "    print(f\" indep: {var_mono['indep'][-1]}, gmx: {var_mono['gmx'][-1]},  icdf: {var_mono['icdf'][-1]},\"\n",
    "          f\" jp: {var_mono['jp'][-1]}, jpz: {var_mono['jpz'][-1]},  opt: {var_mono['opt'][-1]}\")\n",
    "    \n",
    "    \n",
    "    #### plot R(a) = sin(30*(np.random.normal(loc=np.zeros(K), scale=1)))[a] ###\n",
    "    ates, _ = compare_coupling_strategies(n, p_logits, q_logits, R_non_monotone,\n",
    "                                          gd1_non_monotone, gd2_non_monotone.model,\n",
    "                                          gd2_non_monotone.params, monotone=False)\n",
    "    ate_i, ate_g, ate_c, ate_m, ate_z, ate_o = zip(*ates)\n",
    "\n",
    "    var_nonmono['indep'].append(np.var(ate_i))\n",
    "    var_nonmono['gmx'].append(np.var(ate_g))\n",
    "    var_nonmono['icdf'].append(np.var(ate_c))\n",
    "    var_nonmono['jp'].append(np.var(ate_m))\n",
    "    var_nonmono['jpz'].append(np.var(ate_z))\n",
    "    var_nonmono['opt'].append(np.var(ate_o))\n",
    "    print('Non-monotonic reward function:')\n",
    "    print(f\" indep: {var_nonmono['indep'][-1]}, gmx: {var_nonmono['gmx'][-1]},  icdf: {var_nonmono['icdf'][-1]},\"\n",
    "          f\" jp: {var_nonmono['jp'][-1]}, jpz: {var_nonmono['jpz'][-1]},  opt: {var_nonmono['opt'][-1]}\")"
   ]
  },
  {
   "cell_type": "code",
   "execution_count": 22,
   "metadata": {
    "pycharm": {
     "is_executing": true,
     "name": "#%%\n"
    }
   },
   "outputs": [],
   "source": [
    "import seaborn as sns\n",
    "import pandas as pd\n",
    "\n",
    "\n",
    "def conv_to_np(this_list):\n",
    "    this_arr = np.array(this_list)[:, np.newaxis]\n",
    "    # Make this idempotent\n",
    "    this_arr = this_arr.squeeze()[:, np.newaxis]\n",
    "    return this_arr"
   ]
  },
  {
   "cell_type": "code",
   "execution_count": 23,
   "metadata": {
    "pycharm": {
     "is_executing": true,
     "name": "#%%\n"
    }
   },
   "outputs": [],
   "source": [
    "def plot_ate_var(variance, title='Monotonic R'):\n",
    "    gmx = conv_to_np(variance['gmx'])\n",
    "    icdf = conv_to_np(variance['icdf'])\n",
    "    #anti = conv_to_np(variance['anti'])\n",
    "    jp = conv_to_np(variance['jp'])\n",
    "    jpz = conv_to_np(variance['jpz'])\n",
    "    opt = conv_to_np(variance['opt'])\n",
    "\n",
    "    plt.rcParams.update({'font.size': 14})\n",
    "    reward = np.concatenate([gmx,\n",
    "                             icdf,\n",
    "                             #anti,\n",
    "                             jp,\n",
    "                             jpz,\n",
    "                             opt,\n",
    "                             ], axis=1)\n",
    "    reward_df = pd.DataFrame(reward, columns=['Gumbel-Max',\n",
    "                                              'Inverse-CDF',\n",
    "                                              #'Antithetic',\n",
    "                                              'Gadget-1',\n",
    "                                              'Gadget-2',\n",
    "                                              'Optimal (LP)'\n",
    "                                              ])\n",
    "\n",
    "    plt.figure(figsize=(8, 5))\n",
    "    #sns.boxplot(data=reward_df, whis=[2.5, 97.5])\n",
    "    sns.barplot(data=reward_df, ci=68)\n",
    "    plt.title(title)\n",
    "    plt.ylabel(\"ATE variance\")\n",
    "    plt.savefig(\"{}/toy_ate_var_{}_{}.pdf\".format(figpath, coupler_save_path, title))\n",
    "\n",
    "    plt.show()"
   ]
  },
  {
   "cell_type": "code",
   "execution_count": 24,
   "metadata": {
    "pycharm": {
     "is_executing": true,
     "name": "#%%\n"
    }
   },
   "outputs": [
    {
     "data": {
      "image/png": "[encoded data removed]",
      "text/plain": [
       "<Figure size 576x360 with 1 Axes>"
      ]
     },
     "metadata": {
      "needs_background": "light"
     },
     "output_type": "display_data"
    },
    {
     "data": {
      "image/png": "[encoded data removed]",
      "text/plain": [
       "<Figure size 576x360 with 1 Axes>"
      ]
     },
     "metadata": {
      "needs_background": "light"
     },
     "output_type": "display_data"
    }
   ],
   "source": [
    "plot_ate_var(var_mono, title='Monotonic R')\n",
    "plot_ate_var(var_nonmono, title='Non-monotonic R')\n",
    "\n"
   ]
  },
  {
   "cell_type": "code",
   "execution_count": 25,
   "metadata": {},
   "outputs": [
    {
     "name": "stdout",
     "output_type": "stream",
     "text": [
      "monotone:\n",
      "indep: 2.733486489809488 0.3913439631449939\n",
      "gmx: 2.4667295565595384 0.35167200462405224\n",
      "icdf: 0.6081048167483316 0.10889778343050012\n",
      "opt: 0.6081048167483316 0.10889778343050012\n",
      "gadget-1: 1.4268250666989728 0.22174222145468936\n",
      "gadget-2: 2.0025127 0.3010683485305203\n"
     ]
    }
   ],
   "source": [
    "print(\"monotone:\")\n",
    "sqrt_length = np.sqrt(len(var_mono['gmx']))\n",
    "print(\"indep:\", np.mean(var_mono['indep']), np.std(var_mono['indep'])/sqrt_length)\n",
    "print(\"gmx:\", np.mean(var_mono['gmx']), np.std(var_mono['gmx'])/sqrt_length)\n",
    "print(\"icdf:\", np.mean(var_mono['icdf']), np.std(var_mono['icdf'])/sqrt_length)\n",
    "print(\"opt:\", np.mean(var_mono['opt']), np.std(var_mono['opt'])/sqrt_length)\n",
    "print(\"gadget-1:\", np.mean(var_mono['jp']), np.std(var_mono['jp'])/sqrt_length)\n",
    "print(\"gadget-2:\", np.mean(var_mono['jpz']), np.std(var_mono['jpz'])/sqrt_length)\n"
   ]
  },
  {
   "cell_type": "code",
   "execution_count": 26,
   "metadata": {
    "scrolled": true
   },
   "outputs": [
    {
     "name": "stdout",
     "output_type": "stream",
     "text": [
      "non-monotone:\n",
      "indep: 0.834538600419416 0.10410340659394125\n",
      "gmx: 0.5068929387904362 0.06618207663718108\n",
      "icdf: 0.9119719070902205 0.12953292939956165\n",
      "opt: 0.11582219665192553 0.02799775553045251\n",
      "gadget-1: 0.2689475769701155 0.03697646188685072\n",
      "gadget-2: 0.21554239 0.037788736229982856\n"
     ]
    }
   ],
   "source": [
    "print(\"non-monotone:\")\n",
    "sqrt_length = np.sqrt(len(var_nonmono['gmx']))\n",
    "print(\"indep:\", np.mean(var_nonmono['indep']), np.std(var_nonmono['indep'])/sqrt_length)\n",
    "print(\"gmx:\", np.mean(var_nonmono['gmx']), np.std(var_nonmono['gmx'])/sqrt_length)\n",
    "print(\"icdf:\", np.mean(var_nonmono['icdf']), np.std(var_nonmono['icdf'])/sqrt_length)\n",
    "print(\"opt:\", np.mean(var_nonmono['opt']), np.std(var_nonmono['opt'])/sqrt_length)\n",
    "print(\"gadget-1:\", np.mean(var_nonmono['jp']), np.std(var_nonmono['jp'])/sqrt_length)\n",
    "print(\"gadget-2:\", np.mean(var_nonmono['jpz']), np.std(var_nonmono['jpz'])/sqrt_length)\n"
   ]
  }
 ],
 "metadata": {
  "colab": {
   "collapsed_sections": [],
   "name": "Joint Predictor.ipynb",
   "provenance": []
  },
  "kernelspec": {
   "display_name": "Python 3",
   "language": "python",
   "name": "python3"
  },
  "language_info": {
   "codemirror_mode": {
    "name": "ipython",
    "version": 3
   },
   "file_extension": ".py",
   "mimetype": "text/x-python",
   "name": "python",
   "nbconvert_exporter": "python",
   "pygments_lexer": "ipython3",
   "version": "3.8.10"
  }
 },
 "nbformat": 4,
 "nbformat_minor": 1
}
